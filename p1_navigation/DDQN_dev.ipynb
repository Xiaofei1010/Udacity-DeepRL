{
 "cells": [
  {
   "cell_type": "code",
   "execution_count": 30,
   "metadata": {},
   "outputs": [],
   "source": [
    "import os.path\n",
    "import random\n",
    "import time\n",
    "import re\n",
    "import importlib\n",
    "import torch\n",
    "import matplotlib.pyplot as plt\n",
    "import numpy as np\n",
    "from unityagents import UnityEnvironment\n",
    "from collections import deque\n",
    "import torchvision.transforms as T\n",
    "\n",
    "\n",
    "\n",
    "from agent import DQN_Agent\n",
    "from environment import Environment\n",
    "from data_handling import Logger, Saver, gather_args\n",
    "\n",
    "\n",
    "\n",
    "class Args:\n",
    "    def __init__(self):\n",
    "        self.train = True\n",
    "        self.nographics = False\n",
    "        self.num_eps = 10\n",
    "        self.rollout = 5\n",
    "        self.batchsize = 64\n",
    "        self.pretrain = 1000\n",
    "        self.num_episodes = 5\n",
    "        self.max_time = 50\n",
    "        self.alr = 1e-4\n",
    "        self.clr = 1e-4\n",
    "        self.batch = 128\n",
    "        self.buffer = 100000\n",
    "        self.C = 4000        \n",
    "        self.device = torch.device(\"cuda:0\" if torch.cuda.is_available() else \"cpu\")     \n",
    "        self.pixels = False\n",
    "        self.eval = False\n",
    "        self.framework = \"DDQN\"\n",
    "        self.prioritized_experience_replay = False\n",
    "        self.save_dir = \"saves\"\n",
    "        self.load_file = False\n",
    "        self.quiet = False\n",
    "        self.save_every = 2\n",
    "args = Args()\n",
    "def check_args():\n",
    "    for arg in vars(args):\n",
    "        if arg == \"sep\": continue\n",
    "        print(\"{}: {}\".format(arg.upper(), getattr(args, arg)))\n",
    "        \n",
    "        \n",
    "DEVICE = torch.device(\"cuda:0\" if torch.cuda.is_available() else \"cpu\") "
   ]
  },
  {
   "cell_type": "code",
   "execution_count": 2,
   "metadata": {},
   "outputs": [
    {
     "name": "stdout",
     "output_type": "stream",
     "text": [
      "##################################################\n",
      "#                                                #\n"
     ]
    },
    {
     "name": "stderr",
     "output_type": "stream",
     "text": [
      "INFO:unityagents:\n",
      "'Academy' started successfully!\n",
      "Unity Academy name: Academy\n",
      "        Number of Brains: 1\n",
      "        Number of External Brains : 1\n",
      "        Lesson number : 0\n",
      "        Reset Parameters :\n",
      "\t\t\n",
      "Unity brain name: BananaBrain\n",
      "        Number of Visual Observations (per agent): 0\n",
      "        Vector Observation space type: continuous\n",
      "        Vector Observation space size (per agent): 37\n",
      "        Number of stacked Vector Observation: 1\n",
      "        Vector Action space type: discrete\n",
      "        Vector Action space size (per agent): 4\n",
      "        Vector Action descriptions: , , , \n"
     ]
    },
    {
     "name": "stdout",
     "output_type": "stream",
     "text": [
      "#                                                #\n",
      "##################################################\n"
     ]
    }
   ],
   "source": [
    "env = Environment(args, id=1)"
   ]
  },
  {
   "cell_type": "code",
   "execution_count": 51,
   "metadata": {},
   "outputs": [],
   "source": [
    "def train(agent, args, env, saver):\n",
    "    \"\"\"\n",
    "    Train the agent.\n",
    "    \"\"\"\n",
    "\n",
    "    logger = Logger(agent, args, saver.save_dir, log_every=50)\n",
    "\n",
    "    # Pre-fill the Replay Buffer\n",
    "    agent.initialize_memory(args.pretrain, env)\n",
    "\n",
    "    #Begin training loop\n",
    "    for episode in range(1, args.num_episodes+1):\n",
    "        # Begin each episode with a clean environment\n",
    "        done = False\n",
    "        env.reset()\n",
    "        # Get initial state\n",
    "        state = env.state\n",
    "        # Gather experience until done or max_steps is reached\n",
    "        while not done:\n",
    "            action = agent.act(state)\n",
    "            next_state, reward, done = env.step(action)\n",
    "            if done:\n",
    "                next_state = None\n",
    "\n",
    "            agent.step(state, action, reward, next_state)\n",
    "            state = next_state\n",
    "\n",
    "            logger.log(reward, agent)\n",
    "\n",
    "\n",
    "        saver.save_checkpoint(agent, args.save_every)\n",
    "        agent.new_episode()\n",
    "        logger.step(episode, agent.epsilon)\n",
    "\n",
    "    saver.save_final(agent)\n",
    "    logger.graph()\n",
    "    return True\n",
    "env.reset()"
   ]
  },
  {
   "cell_type": "code",
   "execution_count": 52,
   "metadata": {},
   "outputs": [],
   "source": [
    "args.pretrain = 75\n",
    "args.quiet = False"
   ]
  },
  {
   "cell_type": "code",
   "execution_count": 57,
   "metadata": {},
   "outputs": [],
   "source": [
    "import models\n",
    "import agent\n",
    "import buffers\n",
    "import environment\n",
    "import utils\n",
    "import data_handling\n",
    "importlib.reload(models)\n",
    "importlib.reload(agent)\n",
    "importlib.reload(buffers)\n",
    "importlib.reload(environment)\n",
    "importlib.reload(utils)\n",
    "importlib.reload(data_handling)\n",
    "from environment import Environment\n",
    "from agent import DQN_Agent\n",
    "from models import QNetwork\n",
    "from utils import check_dir\n",
    "from buffers import ReplayBuffer\n",
    "from data_handling import Saver, Logger"
   ]
  },
  {
   "cell_type": "code",
   "execution_count": 58,
   "metadata": {},
   "outputs": [
    {
     "name": "stdout",
     "output_type": "stream",
     "text": [
      "##################################################\n",
      "#                                                #\n",
      "    Saving to base filename: DDQN_20190311_v7     \n",
      "#                                                #\n",
      "##################################################\n"
     ]
    }
   ],
   "source": [
    "env.reset()\n",
    "agent = DQN_Agent(env.state_size,\n",
    "                  env.action_size,\n",
    "                  args)\n",
    "\n",
    "saver = Saver(agent.framework, agent, args.save_dir, args.load_file)"
   ]
  },
  {
   "cell_type": "code",
   "execution_count": 59,
   "metadata": {
    "scrolled": false
   },
   "outputs": [
    {
     "name": "stdout",
     "output_type": "stream",
     "text": [
      "##################################################\n",
      "#                                                #\n",
      "          Starting training at: 21:05:36          \n",
      "#                                                #\n",
      "##################################################\n",
      "##################################################\n",
      "#                                                #\n",
      "                   TRAIN: True                    \n",
      "                NOGRAPHICS: False                 \n",
      "                   NUM_EPS: 10                    \n",
      "                  BATCHSIZE: 64                   \n",
      "                   PRETRAIN: 75                   \n",
      "                 NUM_EPISODES: 5                  \n",
      "                   MAX_TIME: 50                   \n",
      "                   ALR: 0.0001                    \n",
      "                   CLR: 0.0001                    \n",
      "                    BATCH: 128                    \n",
      "                  BUFFER: 100000                  \n",
      "                  PIXELS: False                   \n",
      "       PRIORITIZED_EXPERIENCE_REPLAY: False       \n",
      "                 SAVE_DIR: saves                  \n",
      "                 LOAD_FILE: False                 \n",
      "                   QUIET: False                   \n",
      "                  SAVE_EVERY: 2                   \n",
      "                  DEVICE: cuda:0                  \n",
      "                  ACTION_SIZE: 4                  \n",
      "                  STATE_SIZE: 37                  \n",
      "                 FRAMEWORK: DDQN                  \n",
      "                   EVAL: False                    \n",
      "                  AGENT_COUNT: 1                  \n",
      "                LEARN_RATE: 0.001                 \n",
      "                  BATCH_SIZE: 64                  \n",
      "               BUFFER_SIZE: 100000                \n",
      "                     C: 720.0                     \n",
      "                    EPSILON: 1                    \n",
      "               EPSILON_DECAY: 0.99                \n",
      "                EPSILON_MIN: 0.01                 \n",
      "                   GAMMA: 0.99                    \n",
      "                    ROLLOUT: 1                    \n",
      "                   TAU: 0.0005                    \n",
      "                   MOMENTUM: 1                    \n",
      "                 L2_DECAY: 0.0001                 \n",
      "                UPDATE_TYPE: hard                 \n",
      "                    T_STEP: 0                     \n",
      "                    EPISODE: 1                    \n",
      "                     SEED: 0                      \n",
      "MEMORY: <buffers.ReplayBuffer object at 0x00000148A6305898>\n",
      "Q: QNetwork(\n",
      "  (hidden_layers): ModuleList(\n",
      "    (0): Linear(in_features=37, out_features=64, bias=True)\n",
      "    (1): Linear(in_features=64, out_features=64, bias=True)\n",
      "  )\n",
      "  (output): Linear(in_features=64, out_features=4, bias=True)\n",
      ")\n",
      "Q_TARGET: QNetwork(\n",
      "  (hidden_layers): ModuleList(\n",
      "    (0): Linear(in_features=37, out_features=64, bias=True)\n",
      "    (1): Linear(in_features=64, out_features=64, bias=True)\n",
      "  )\n",
      "  (output): Linear(in_features=64, out_features=4, bias=True)\n",
      ")\n",
      "Q_OPTIMIZER: Adam (\n",
      "Parameter Group 0\n",
      "    amsgrad: False\n",
      "    betas: (0.9, 0.999)\n",
      "    eps: 1e-08\n",
      "    lr: 0.001\n",
      "    weight_decay: 0.0001\n",
      ")\n",
      "#                                                #\n",
      "##################################################\n",
      "##################################################\n",
      "#                                                #\n",
      "  Logfiles saved to: saves/DDQN_20190311_v7/logs  \n",
      "           ...DDQN_20190311_v7_LOG.txt            \n",
      "       ...DDQN_20190311_v7_networkloss.txt        \n",
      "          ...DDQN_20190311_v7_scores.txt          \n",
      "#                                                #\n",
      "##################################################\n",
      "Initializing memory buffer.\n",
      "Taking pretrain step 10... memory filled: 10/75                    \n",
      "Taking pretrain step 20... memory filled: 20/75                    \n",
      "Taking pretrain step 30... memory filled: 30/75                    \n",
      "Taking pretrain step 40... memory filled: 40/75                    \n",
      "Taking pretrain step 50... memory filled: 50/75                    \n",
      "Taking pretrain step 60... memory filled: 60/75                    \n",
      "Taking pretrain step 70... memory filled: 70/75                    \n",
      "Taking pretrain step 75... memory filled: 75/75                    \n",
      "Done!\n",
      "\n",
      "Episode 1/5... RUNTIME: 0h0m3s, TOTAL: 0h0m3s\n",
      "Epsilon: 0.022847, Loss: 0.001804\n",
      "..........Return: -2.0\n",
      "###################################################################################\n",
      "Saving Agent checkpoint to: saves/DDQN_20190311_v7/DDQN_20190311_v7_eps2_ckpt.agent\n",
      "###################################################################################\n",
      "\n",
      "Episode 2/5... RUNTIME: 0h0m3s, TOTAL: 0h0m7s\n",
      "Epsilon: 0.010000, Loss: 0.002894\n",
      "..........Return: 0.0\n",
      "\n",
      "Episode 3/5... RUNTIME: 0h0m3s, TOTAL: 0h0m11s\n",
      "Epsilon: 0.010000, Loss: 0.000075\n",
      "..........Return: 1.0\n",
      "###################################################################################\n",
      "Saving Agent checkpoint to: saves/DDQN_20190311_v7/DDQN_20190311_v7_eps4_ckpt.agent\n",
      "###################################################################################\n",
      "\n",
      "Episode 4/5... RUNTIME: 0h0m3s, TOTAL: 0h0m15s\n",
      "Epsilon: 0.010000, Loss: 0.000080\n",
      "..........Return: 0.0\n",
      "\n",
      "Episode 5/5... RUNTIME: 0h0m3s, TOTAL: 0h0m18s\n",
      "Epsilon: 0.010000, Loss: 0.000066\n",
      "..........Return: 0.0\n",
      "######################################################################################\n",
      "Saved final Agent weights to: saves/DDQN_20190311_v7/DDQN_20190311_v7_eps5_FINAL.agent\n",
      "######################################################################################\n",
      "######################################################################\n",
      "Saved graph data to: saves/DDQN_20190311_v7/DDQN_20190311_v7_graph.png\n",
      "######################################################################\n"
     ]
    },
    {
     "data": {
      "text/plain": [
       "True"
      ]
     },
     "execution_count": 59,
     "metadata": {},
     "output_type": "execute_result"
    },
    {
     "data": {
      "image/png": "[encoded data removed]",
      "text/plain": [
       "<Figure size 1440x720 with 3 Axes>"
      ]
     },
     "metadata": {
      "needs_background": "light"
     },
     "output_type": "display_data"
    }
   ],
   "source": [
    "train(agent, args, env, saver)"
   ]
  },
  {
   "cell_type": "code",
   "execution_count": 75,
   "metadata": {},
   "outputs": [
    {
     "data": {
      "image/png": "[encoded data removed]",
      "text/plain": [
       "<Figure size 432x288 with 1 Axes>"
      ]
     },
     "metadata": {
      "needs_background": "light"
     },
     "output_type": "display_data"
    }
   ],
   "source": [
    "x = np.arange(0,30000,1)\n",
    "def f(x):\n",
    "    \n",
    "    return 0.9999**x\n",
    "p = plt.plot(x, f(x))\n",
    "plt.show()"
   ]
  },
  {
   "cell_type": "code",
   "execution_count": 61,
   "metadata": {},
   "outputs": [
    {
     "name": "stdout",
     "output_type": "stream",
     "text": [
      "[0.]\n"
     ]
    }
   ],
   "source": [
    "print(x)"
   ]
  },
  {
   "cell_type": "code",
   "execution_count": 76,
   "metadata": {},
   "outputs": [
    {
     "data": {
      "text/plain": [
       "1.0"
      ]
     },
     "execution_count": 76,
     "metadata": {},
     "output_type": "execute_result"
    }
   ],
   "source": [
    ".99**0"
   ]
  },
  {
   "cell_type": "code",
   "execution_count": 77,
   "metadata": {},
   "outputs": [
    {
     "data": {
      "text/plain": [
       "0.99"
      ]
     },
     "execution_count": 77,
     "metadata": {},
     "output_type": "execute_result"
    }
   ],
   "source": [
    ".99**1"
   ]
  },
  {
   "cell_type": "code",
   "execution_count": 78,
   "metadata": {},
   "outputs": [
    {
     "data": {
      "text/plain": [
       "0.9801"
      ]
     },
     "execution_count": 78,
     "metadata": {},
     "output_type": "execute_result"
    }
   ],
   "source": [
    ".99**2"
   ]
  },
  {
   "cell_type": "code",
   "execution_count": 91,
   "metadata": {},
   "outputs": [
    {
     "data": {
      "text/plain": [
       "'torch.FloatTensor'"
      ]
     },
     "execution_count": 91,
     "metadata": {},
     "output_type": "execute_result"
    }
   ],
   "source": [
    "t = torch.tensor(0, dtype=torch.float)\n",
    "t.type()"
   ]
  },
  {
   "cell_type": "code",
   "execution_count": 83,
   "metadata": {},
   "outputs": [],
   "source": [
    "t = t + 2"
   ]
  },
  {
   "cell_type": "code",
   "execution_count": 84,
   "metadata": {},
   "outputs": [
    {
     "data": {
      "text/plain": [
       "tensor(2)"
      ]
     },
     "execution_count": 84,
     "metadata": {},
     "output_type": "execute_result"
    }
   ],
   "source": [
    "t"
   ]
  },
  {
   "cell_type": "code",
   "execution_count": null,
   "metadata": {},
   "outputs": [],
   "source": []
  },
  {
   "cell_type": "code",
   "execution_count": null,
   "metadata": {},
   "outputs": [],
   "source": []
  },
  {
   "cell_type": "code",
   "execution_count": null,
   "metadata": {},
   "outputs": [],
   "source": []
  },
  {
   "cell_type": "code",
   "execution_count": null,
   "metadata": {},
   "outputs": [],
   "source": []
  },
  {
   "cell_type": "code",
   "execution_count": null,
   "metadata": {},
   "outputs": [],
   "source": []
  },
  {
   "cell_type": "code",
   "execution_count": null,
   "metadata": {},
   "outputs": [],
   "source": []
  },
  {
   "cell_type": "code",
   "execution_count": 79,
   "metadata": {},
   "outputs": [],
   "source": [
    "env.close()"
   ]
  },
  {
   "cell_type": "code",
   "execution_count": null,
   "metadata": {},
   "outputs": [],
   "source": []
  }
 ],
 "metadata": {
  "kernelspec": {
   "display_name": "drlnd",
   "language": "python",
   "name": "drlnd"
  },
  "language_info": {
   "codemirror_mode": {
    "name": "ipython",
    "version": 3
   },
   "file_extension": ".py",
   "mimetype": "text/x-python",
   "name": "python",
   "nbconvert_exporter": "python",
   "pygments_lexer": "ipython3",
   "version": "3.6.8"
  }
 },
 "nbformat": 4,
 "nbformat_minor": 2
}
