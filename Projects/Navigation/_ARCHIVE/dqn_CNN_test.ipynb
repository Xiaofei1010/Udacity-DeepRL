{
 "cells": [
  {
   "cell_type": "code",
   "execution_count": null,
   "metadata": {},
   "outputs": [],
   "source": [
    "import time\n",
    "import numpy as np\n",
    "import torch\n",
    "\n",
    "from get_args import get_args\n",
    "from agent import Agent\n",
    "from utils import load_filepath, load_checkpoint, plot_scores, print_debug_info, print_status, save_checkpoint\n",
    "from IPython.display import clear_output\n",
    "import matplotlib.pyplot as plt\n",
    "%matplotlib inline\n",
    "from unityagents import UnityEnvironment\n",
    "\n",
    "device = torch.device(\"cuda:0\" if torch.cuda.is_available() else \"cpu\")\n",
    "\n",
    "args = get_args()\n",
    "args.framework = \"D2DQN\"\n",
    "args.pixels = True"
   ]
  },
  {
   "cell_type": "code",
   "execution_count": null,
   "metadata": {},
   "outputs": [],
   "source": []
  },
  {
   "cell_type": "code",
   "execution_count": null,
   "metadata": {},
   "outputs": [],
   "source": [
    "for arg in vars(args):\n",
    "    print(\"{}: {}\".format(arg, getattr(args, arg)))"
   ]
  },
  {
   "cell_type": "code",
   "execution_count": null,
   "metadata": {
    "scrolled": true
   },
   "outputs": [],
   "source": [
    "start_time = time.time()\n",
    "sep = \"#\"*50\n",
    "unity_env = UnityEnvironment(file_name=\"VisualBanana_Windows_x86_64/Banana.exe\", no_graphics=True)\n",
    "# get the default brain (In this environment there is only one agent/brain)\n",
    "brain_name = unity_env.brain_names[0]\n",
    "brain = unity_env.brains[brain_name]\n",
    "env = unity_env.reset(train_mode=True)[brain_name]\n",
    "nA = brain.vector_action_space_size\n",
    "nS = len(env.vector_observations[0])\n",
    "agent = Agent(nS, nA, device, args)"
   ]
  },
  {
   "cell_type": "code",
   "execution_count": null,
   "metadata": {},
   "outputs": [],
   "source": []
  },
  {
   "cell_type": "code",
   "execution_count": null,
   "metadata": {},
   "outputs": [],
   "source": [
    "state = env.visual_observations[0]\n",
    "print(state.shape)\n",
    "state = torch.from_numpy(state)\n",
    "print(state.shape)"
   ]
  },
  {
   "cell_type": "code",
   "execution_count": null,
   "metadata": {},
   "outputs": [],
   "source": [
    "state = env.visual_observations[0]\n",
    "state = torch.from_numpy(state).squeeze(0).transpose(2,0)\n",
    "#state = state\n",
    "state.shape"
   ]
  },
  {
   "cell_type": "code",
   "execution_count": null,
   "metadata": {},
   "outputs": [],
   "source": [
    "state = env.visual_observations[0]\n",
    "state = state.squeeze(0).transpose(2,0,1)\n",
    "state.shape"
   ]
  },
  {
   "cell_type": "code",
   "execution_count": null,
   "metadata": {},
   "outputs": [],
   "source": []
  },
  {
   "cell_type": "code",
   "execution_count": null,
   "metadata": {},
   "outputs": [],
   "source": [
    "#state = torch.from_numpy(env.visual_observations[0]).float().transpose(3,1).to(device)\n",
    "state = env.visual_observations[0]\n",
    "\n",
    "for i in range(60):    \n",
    "    print(state.shape)\n",
    "    #action = agent.act(state.squeeze(0).transpose(2,0,1))\n",
    "    action = agent.act(state)\n",
    "    env = unity_env.step(action)[brain_name]\n",
    "\n",
    "    #collect info about new state\n",
    "    reward = env.rewards[0]\n",
    "    next_state = env.visual_observations[0]\n",
    "    done = env.local_done[0]\n",
    "    #action = torch.from_numpy(action)\n",
    "    agent.teststep(state, action, reward, next_state, done)\n",
    "    agent.buffer.add(state, action, reward, next_state, done)\n",
    "\n",
    "    state = next_state\n",
    "    "
   ]
  },
  {
   "cell_type": "code",
   "execution_count": null,
   "metadata": {},
   "outputs": [],
   "source": [
    "batch = agent.buffer.sample()\n",
    "#batch = state, action, reward, next_state, done"
   ]
  },
  {
   "cell_type": "code",
   "execution_count": null,
   "metadata": {},
   "outputs": [],
   "source": [
    "for state, action, reward, next_state, done in zip(*batch):\n",
    "    print(\"STATE:\\n{}\".format(state))\n",
    "    print(\"ACTION:\\n{}\".format(action))\n",
    "    print(\"REWARD:\\n{}\".format(reward))\n",
    "    print(\"NEXT STATE:\\n{}\".format(next_state))\n",
    "    print(\"DONE:\\n{}\".format(done))    "
   ]
  },
  {
   "cell_type": "code",
   "execution_count": null,
   "metadata": {},
   "outputs": [],
   "source": [
    "print(\"STATE:\\n{}\".format(state))\n",
    "print(\"ACTION:\\n{}\".format(action))\n",
    "print(\"REWARD:\\n{}\".format(reward))\n",
    "print(\"NEXT STATE:\\n{}\".format(next_state))\n",
    "print(\"DONE:\\n{}\".format(done))"
   ]
  },
  {
   "cell_type": "code",
   "execution_count": null,
   "metadata": {},
   "outputs": [],
   "source": [
    "#Binary tree\n",
    "class Node:\n",
    "    def __init__(self,data)"
   ]
  },
  {
   "cell_type": "code",
   "execution_count": null,
   "metadata": {},
   "outputs": [],
   "source": []
  },
  {
   "cell_type": "code",
   "execution_count": null,
   "metadata": {},
   "outputs": [],
   "source": []
  },
  {
   "cell_type": "code",
   "execution_count": null,
   "metadata": {},
   "outputs": [],
   "source": []
  },
  {
   "cell_type": "code",
   "execution_count": null,
   "metadata": {},
   "outputs": [],
   "source": []
  },
  {
   "cell_type": "code",
   "execution_count": null,
   "metadata": {},
   "outputs": [],
   "source": []
  },
  {
   "cell_type": "code",
   "execution_count": null,
   "metadata": {},
   "outputs": [],
   "source": [
    "unity_env.close()\n"
   ]
  },
  {
   "cell_type": "code",
   "execution_count": null,
   "metadata": {},
   "outputs": [],
   "source": []
  }
 ],
 "metadata": {
  "kernelspec": {
   "display_name": "drlnd",
   "language": "python",
   "name": "drlnd"
  },
  "language_info": {
   "codemirror_mode": {
    "name": "ipython",
    "version": 3
   },
   "file_extension": ".py",
   "mimetype": "text/x-python",
   "name": "python",
   "nbconvert_exporter": "python",
   "pygments_lexer": "ipython3",
   "version": "3.6.8"
  }
 },
 "nbformat": 4,
 "nbformat_minor": 2
}
