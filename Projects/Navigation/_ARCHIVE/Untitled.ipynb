{
 "cells": [
  {
   "cell_type": "code",
   "execution_count": 5,
   "metadata": {},
   "outputs": [],
   "source": [
    "import random\n",
    "import torch"
   ]
  },
  {
   "cell_type": "code",
   "execution_count": 4,
   "metadata": {},
   "outputs": [
    {
     "name": "stdout",
     "output_type": "stream",
     "text": [
      "0\n",
      "3\n",
      "2\n",
      "1\n",
      "3\n",
      "3\n",
      "3\n",
      "3\n",
      "0\n",
      "3\n",
      "3\n",
      "2\n",
      "1\n",
      "1\n",
      "3\n",
      "3\n",
      "2\n",
      "3\n",
      "1\n",
      "3\n"
     ]
    }
   ],
   "source": [
    "for i in range(20):\n",
    "    print(random.randrange(4))"
   ]
  },
  {
   "cell_type": "code",
   "execution_count": 21,
   "metadata": {},
   "outputs": [
    {
     "name": "stdout",
     "output_type": "stream",
     "text": [
      "tensor([3])\n",
      "tensor([3])\n",
      "tensor([1])\n",
      "tensor([3])\n",
      "tensor([3])\n",
      "tensor([2])\n",
      "tensor([0])\n",
      "tensor([3])\n",
      "tensor([1])\n",
      "tensor([0])\n",
      "tensor([1])\n",
      "tensor([1])\n",
      "tensor([1])\n",
      "tensor([1])\n",
      "tensor([2])\n",
      "tensor([1])\n",
      "tensor([2])\n",
      "tensor([0])\n",
      "tensor([1])\n",
      "tensor([1])\n"
     ]
    }
   ],
   "source": [
    "for i in range(20):\n",
    "    print(torch.LongTensor(1).random_(4))"
   ]
  },
  {
   "cell_type": "code",
   "execution_count": 10,
   "metadata": {},
   "outputs": [
    {
     "name": "stdout",
     "output_type": "stream",
     "text": [
      "tensor([[2]])\n",
      "tensor([[0]])\n",
      "tensor([[1]])\n",
      "tensor([[1]])\n",
      "tensor([[2]])\n",
      "tensor([[0]])\n",
      "tensor([[0]])\n",
      "tensor([[1]])\n",
      "tensor([[0]])\n",
      "tensor([[3]])\n",
      "tensor([[3]])\n",
      "tensor([[2]])\n",
      "tensor([[1]])\n",
      "tensor([[2]])\n",
      "tensor([[3]])\n",
      "tensor([[3]])\n",
      "tensor([[3]])\n",
      "tensor([[3]])\n",
      "tensor([[2]])\n",
      "tensor([[1]])\n"
     ]
    }
   ],
   "source": [
    "for _ in range(20):\n",
    "    print(torch.tensor([[random.randrange(4)]]))"
   ]
  },
  {
   "cell_type": "code",
   "execution_count": null,
   "metadata": {},
   "outputs": [],
   "source": []
  }
 ],
 "metadata": {
  "kernelspec": {
   "display_name": "drlnd",
   "language": "python",
   "name": "drlnd"
  },
  "language_info": {
   "codemirror_mode": {
    "name": "ipython",
    "version": 3
   },
   "file_extension": ".py",
   "mimetype": "text/x-python",
   "name": "python",
   "nbconvert_exporter": "python",
   "pygments_lexer": "ipython3",
   "version": "3.6.8"
  }
 },
 "nbformat": 4,
 "nbformat_minor": 2
}
