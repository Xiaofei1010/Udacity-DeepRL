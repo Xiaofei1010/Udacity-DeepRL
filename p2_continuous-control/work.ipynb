{
 "cells": [
  {
   "cell_type": "markdown",
   "metadata": {},
   "source": [
    "<br><br><b><font size=10> CONTINUOUS CONTROL</font></b>\n",
    "#### <i>...implementation for Udacity Deep Reinforcement Learning \n",
    "<hr><hr><hr>"
   ]
  },
  {
   "cell_type": "markdown",
   "metadata": {},
   "source": [
    "## Initialize Imports for the notebook\n",
    "This Notebook uses code from separate python files where most of the implementation is handled"
   ]
  },
  {
   "cell_type": "code",
   "execution_count": 1,
   "metadata": {},
   "outputs": [],
   "source": [
    "import env as E\n",
    "from buffers import ReplayBuffer, nStepBuffer\n",
    "from agent import D4PG_Agent\n",
    "import models\n",
    "\n",
    "# from agent import Agent\n",
    "#from get_args import get_args\n",
    "\n",
    "import os.path\n",
    "import time\n",
    "import re\n",
    "import sys\n",
    "\n",
    "import torch\n",
    "import matplotlib.pyplot as plt\n",
    "import numpy as np\n",
    "from unityagents import UnityEnvironment\n",
    "from collections import deque\n",
    "import torchvision.transforms as T"
   ]
  },
  {
   "cell_type": "code",
   "execution_count": 2,
   "metadata": {},
   "outputs": [
    {
     "data": {
      "text/plain": [
       "16"
      ]
     },
     "execution_count": 2,
     "metadata": {},
     "output_type": "execute_result"
    }
   ],
   "source": [
    "import multiprocessing as multi\n",
    "multi.cpu_count()"
   ]
  },
  {
   "cell_type": "markdown",
   "metadata": {},
   "source": [
    "## Manually declare an ARGS class\n",
    "<i> For testing code in the notebook, to take the place of argparser in the command line."
   ]
  },
  {
   "cell_type": "code",
   "execution_count": 3,
   "metadata": {},
   "outputs": [],
   "source": [
    "class Args:\n",
    "    def __init__(self):\n",
    "        self.train = True\n",
    "        self.nographics = False\n",
    "        self.num_eps = 10\n",
    "        self.rollout = 5\n",
    "        self.batchsize = 64\n",
    "        self.pretrain = 1000\n",
    "        \n",
    "args = Args()"
   ]
  },
  {
   "cell_type": "markdown",
   "metadata": {},
   "source": [
    "<b>Confirm that the args are all set the way we want them."
   ]
  },
  {
   "cell_type": "code",
   "execution_count": 4,
   "metadata": {},
   "outputs": [
    {
     "name": "stdout",
     "output_type": "stream",
     "text": [
      "TRAIN: True\n",
      "NOGRAPHICS: False\n",
      "NUM_EPS: 10\n",
      "ROLLOUT: 5\n",
      "BATCHSIZE: 64\n",
      "PRETRAIN: 1000\n"
     ]
    }
   ],
   "source": [
    "for arg in vars(args):\n",
    "    if arg == \"sep\": continue\n",
    "    print(\"{}: {}\".format(arg.upper(), getattr(args, arg)))"
   ]
  },
  {
   "cell_type": "markdown",
   "metadata": {},
   "source": [
    "## Load the environment\n",
    "<i> & print a bit of information contained in the wrapper class"
   ]
  },
  {
   "cell_type": "code",
   "execution_count": 5,
   "metadata": {
    "scrolled": true
   },
   "outputs": [
    {
     "name": "stderr",
     "output_type": "stream",
     "text": [
      "INFO:unityagents:\n",
      "'Academy' started successfully!\n",
      "Unity Academy name: Academy\n",
      "        Number of Brains: 1\n",
      "        Number of External Brains : 1\n",
      "        Lesson number : 0\n",
      "        Reset Parameters :\n",
      "\t\tgoal_speed -> 1.0\n",
      "\t\tgoal_size -> 5.0\n",
      "Unity brain name: ReacherBrain\n",
      "        Number of Visual Observations (per agent): 0\n",
      "        Vector Observation space type: continuous\n",
      "        Vector Observation space size (per agent): 33\n",
      "        Number of stacked Vector Observation: 1\n",
      "        Vector Action space type: continuous\n",
      "        Vector Action space size (per agent): 4\n",
      "        Vector Action descriptions: , , , \n"
     ]
    },
    {
     "name": "stdout",
     "output_type": "stream",
     "text": [
      "State size: 33\n",
      "Action size: 4\n",
      "Num Agents: 20\n"
     ]
    }
   ],
   "source": [
    "env = E.Environment(args)\n",
    "print(\"State size:\", env.state_size)\n",
    "print(\"Action size:\", env.action_size)\n",
    "print(\"Num Agents:\", env.agent_count)"
   ]
  },
  {
   "cell_type": "markdown",
   "metadata": {},
   "source": [
    "<hr>\n",
    "\n",
    "# Test code as it's developed\n",
    "\n",
    "<hr>"
   ]
  },
  {
   "cell_type": "markdown",
   "metadata": {},
   "source": [
    "## Take random actions in the environment below \n",
    "<i>\n",
    "-to check that code is working<br>\n",
    "-to get familiar with the environment"
   ]
  },
  {
   "cell_type": "code",
   "execution_count": 7,
   "metadata": {},
   "outputs": [],
   "source": [
    "env.train = False\n",
    "env.reset()"
   ]
  },
  {
   "cell_type": "code",
   "execution_count": 8,
   "metadata": {},
   "outputs": [
    {
     "name": "stdout",
     "output_type": "stream",
     "text": [
      "Total score (averaged over agents) this episode: 0.0\n"
     ]
    }
   ],
   "source": [
    "scores = np.zeros(env.agent_count)\n",
    "states = env.states\n",
    "for i in range(20):\n",
    "    actions = np.random.randn(env.agent_count, env.action_size)\n",
    "    actions = np.clip(actions, -1, 1)\n",
    "    rewards, dones = env.step(actions)\n",
    "    scores += rewards\n",
    "    states = env.states\n",
    "    if np.any(dones):\n",
    "        break\n",
    "    i += 1\n",
    "print('Total score (averaged over agents) this episode: {}'.format(np.mean(scores)))    "
   ]
  },
  {
   "cell_type": "markdown",
   "metadata": {},
   "source": [
    "### Force-reload modules as they're updated\n",
    "<i> This notebook was developed as the code is written in Atom, the below cell reloads the modules as they're needed."
   ]
  },
  {
   "cell_type": "code",
   "execution_count": 59,
   "metadata": {},
   "outputs": [
    {
     "data": {
      "text/plain": [
       "<module 'models' from 'C:\\\\Users\\\\mattdoll\\\\Development\\\\deep-reinforcement-learning\\\\p2_continuous-control\\\\models.py'>"
      ]
     },
     "execution_count": 59,
     "metadata": {},
     "output_type": "execute_result"
    }
   ],
   "source": [
    "import importlib\n",
    "import agent\n",
    "import buffers\n",
    "import copy\n",
    "importlib.reload(agent)\n",
    "importlib.reload(buffers)\n",
    "importlib.reload(models)"
   ]
  },
  {
   "cell_type": "code",
   "execution_count": null,
   "metadata": {},
   "outputs": [],
   "source": [
    "# agent = agent.D4PG_Agent(env.state_size, env.action_size, env.agent_count, args.rollout)\n",
    "# print(agent.__class__.__name__)\n",
    "# print(agent.memory)\n",
    "# agent.initialize_memory(10, env)"
   ]
  },
  {
   "cell_type": "code",
   "execution_count": 51,
   "metadata": {},
   "outputs": [],
   "source": [
    "env.reset()\n",
    "states = env.states"
   ]
  },
  {
   "cell_type": "markdown",
   "metadata": {},
   "source": [
    "### Test out Actor actions without training\n",
    "<i> Test the <b>Actor</b> network"
   ]
  },
  {
   "cell_type": "code",
   "execution_count": 31,
   "metadata": {},
   "outputs": [],
   "source": [
    "actor = models.ActorNet(env.state_size, env.action_size)"
   ]
  },
  {
   "cell_type": "code",
   "execution_count": 26,
   "metadata": {},
   "outputs": [
    {
     "name": "stdout",
     "output_type": "stream",
     "text": [
      "ACTIONS: [[-1.7259008e-06  2.9305425e-03  1.0615054e-03 -1.2740623e-03]\n",
      " [-6.4743654e-06  2.9114615e-03  1.0617129e-03 -1.2663912e-03]\n",
      " [-9.1323964e-06  2.9120664e-03  1.0722961e-03 -1.2598998e-03]\n",
      " [-2.2053719e-06  2.9295518e-03  1.0642209e-03 -1.2742883e-03]\n",
      " [-1.0844742e-05  2.9116794e-03  1.0721537e-03 -1.2589438e-03]\n",
      " [-1.7902494e-08  2.9215384e-03  1.0735834e-03 -1.2690779e-03]\n",
      " [-1.3820769e-05  2.9063930e-03  1.0675727e-03 -1.2610800e-03]\n",
      " [-9.1163820e-06  2.9099404e-03  1.0617779e-03 -1.2654751e-03]\n",
      " [-9.9992176e-06  2.9077125e-03  1.0629190e-03 -1.2643565e-03]\n",
      " [-2.1913875e-06  2.9234043e-03  1.0620687e-03 -1.2720514e-03]\n",
      " [-6.8611989e-06  2.9124150e-03  1.0616282e-03 -1.2666581e-03]\n",
      " [-2.9900548e-06  2.9294705e-03  1.0640930e-03 -1.2736254e-03]\n",
      " [-1.2416727e-05  2.9059744e-03  1.0660122e-03 -1.2629260e-03]\n",
      " [-3.3348115e-06  2.9297816e-03  1.0609163e-03 -1.2737125e-03]\n",
      " [-6.0319144e-07  2.9288740e-03  1.0653370e-03 -1.2750762e-03]\n",
      " [-7.7205405e-06  2.9101579e-03  1.0619377e-03 -1.2658269e-03]\n",
      " [-8.9165842e-06  2.9140287e-03  1.0740232e-03 -1.2585864e-03]\n",
      " [-4.8944203e-06  2.9156439e-03  1.0746473e-03 -1.2619481e-03]\n",
      " [-7.5054195e-06  2.9098713e-03  1.0619875e-03 -1.2657228e-03]\n",
      " [-1.1975542e-05  2.9112787e-03  1.0718704e-03 -1.2583589e-03]]\n",
      "ACTIONS: [[-1.5620026e-06  2.9310128e-03  1.0615686e-03 -1.2741191e-03]\n",
      " [-6.1492901e-06  2.9120124e-03  1.0617152e-03 -1.2665482e-03]\n",
      " [-9.1376278e-06  2.9120594e-03  1.0722999e-03 -1.2598939e-03]\n",
      " [-2.2408858e-06  2.9298314e-03  1.0639987e-03 -1.2743353e-03]\n",
      " [-1.0605610e-05  2.9118885e-03  1.0722734e-03 -1.2590139e-03]\n",
      " [-4.6486093e-08  2.9212735e-03  1.0737660e-03 -1.2689577e-03]\n",
      " [-1.3894722e-05  2.9067360e-03  1.0680313e-03 -1.2606384e-03]\n",
      " [-9.4271745e-06  2.9094415e-03  1.0618955e-03 -1.2652323e-03]\n",
      " [-1.0016585e-05  2.9077018e-03  1.0629444e-03 -1.2643462e-03]\n",
      " [-2.1837768e-06  2.9239417e-03  1.0621413e-03 -1.2723053e-03]\n",
      " [-6.8084046e-06  2.9125144e-03  1.0616255e-03 -1.2666984e-03]\n",
      " [-3.1248564e-06  2.9300386e-03  1.0637316e-03 -1.2736961e-03]\n",
      " [-1.2442935e-05  2.9059707e-03  1.0660689e-03 -1.2628937e-03]\n",
      " [-3.2723692e-06  2.9300053e-03  1.0609744e-03 -1.2737107e-03]\n",
      " [-6.1956962e-07  2.9285362e-03  1.0656349e-03 -1.2749204e-03]\n",
      " [-7.6257929e-06  2.9103649e-03  1.0619062e-03 -1.2659169e-03]\n",
      " [-8.3174236e-06  2.9145302e-03  1.0744833e-03 -1.2589224e-03]\n",
      " [-4.7734211e-06  2.9157470e-03  1.0746423e-03 -1.2620750e-03]\n",
      " [-7.2965922e-06  2.9102867e-03  1.0619307e-03 -1.2659094e-03]\n",
      " [-1.1628101e-05  2.9115465e-03  1.0720728e-03 -1.2584719e-03]]\n",
      "ACTIONS: [[-1.4385223e-06  2.9314882e-03  1.0616345e-03 -1.2741340e-03]\n",
      " [-5.7438738e-06  2.9124962e-03  1.0617301e-03 -1.2667666e-03]\n",
      " [-9.1423426e-06  2.9120531e-03  1.0723025e-03 -1.2598875e-03]\n",
      " [-2.3246248e-06  2.9301192e-03  1.0637937e-03 -1.2743589e-03]\n",
      " [-1.0367061e-05  2.9120981e-03  1.0723858e-03 -1.2590830e-03]\n",
      " [-7.8776793e-08  2.9210120e-03  1.0739424e-03 -1.2688364e-03]\n",
      " [-1.3997051e-05  2.9071195e-03  1.0685869e-03 -1.2601529e-03]\n",
      " [-9.7817829e-06  2.9089828e-03  1.0620457e-03 -1.2649609e-03]\n",
      " [-1.0033604e-05  2.9076918e-03  1.0629679e-03 -1.2643352e-03]\n",
      " [-2.2123713e-06  2.9244351e-03  1.0622228e-03 -1.2725596e-03]\n",
      " [-6.7534711e-06  2.9126136e-03  1.0616224e-03 -1.2667340e-03]\n",
      " [-3.2342650e-06  2.9305867e-03  1.0633615e-03 -1.2737302e-03]\n",
      " [-1.2467528e-05  2.9059639e-03  1.0661219e-03 -1.2628615e-03]\n",
      " [-3.2256503e-06  2.9302007e-03  1.0610498e-03 -1.2737216e-03]\n",
      " [-6.1489118e-07  2.9281874e-03  1.0659596e-03 -1.2747727e-03]\n",
      " [-7.5418575e-06  2.9105784e-03  1.0618764e-03 -1.2659897e-03]\n",
      " [-7.5877397e-06  2.9150487e-03  1.0749705e-03 -1.2592432e-03]\n",
      " [-4.6394707e-06  2.9158625e-03  1.0746280e-03 -1.2621956e-03]\n",
      " [-7.0951210e-06  2.9107134e-03  1.0618764e-03 -1.2660909e-03]\n",
      " [-1.1259472e-05  2.9118347e-03  1.0722757e-03 -1.2585846e-03]]\n",
      "ACTIONS: [[-1.35755545e-06  2.93192407e-03  1.06161600e-03 -1.27424591e-03]\n",
      " [-5.34427090e-06  2.91297841e-03  1.06174464e-03 -1.26701011e-03]\n",
      " [-9.14662087e-06  2.91204732e-03  1.07230328e-03 -1.25988084e-03]\n",
      " [-2.41188536e-06  2.93040019e-03  1.06357876e-03 -1.27437594e-03]\n",
      " [-1.00735342e-05  2.91224336e-03  1.07246672e-03 -1.25914055e-03]\n",
      " [-1.26638042e-07  2.92075099e-03  1.07407430e-03 -1.26867171e-03]\n",
      " [-1.40800403e-05  2.90753739e-03  1.06905319e-03 -1.25962007e-03]\n",
      " [-1.01423866e-05  2.90859817e-03  1.06227677e-03 -1.26468833e-03]\n",
      " [-1.00501275e-05  2.90768198e-03  1.06298912e-03 -1.26432371e-03]\n",
      " [-2.30358273e-06  2.92487908e-03  1.06227968e-03 -1.27276091e-03]\n",
      " [-6.69626024e-06  2.91271205e-03  1.06161786e-03 -1.26676972e-03]\n",
      " [-3.34940705e-06  2.93100253e-03  1.06300949e-03 -1.27377152e-03]\n",
      " [-1.24886428e-05  2.90595577e-03  1.06617203e-03 -1.26283208e-03]\n",
      " [-3.16948717e-06  2.93038948e-03  1.06111798e-03 -1.27374032e-03]\n",
      " [-5.74545993e-07  2.92783440e-03  1.06632244e-03 -1.27461029e-03]\n",
      " [-7.45252328e-06  2.91079027e-03  1.06183451e-03 -1.26604945e-03]\n",
      " [-6.75604679e-06  2.91549251e-03  1.07506465e-03 -1.25964242e-03]\n",
      " [-4.49905929e-06  2.91598169e-03  1.07461726e-03 -1.26231241e-03]\n",
      " [-6.91747846e-06  2.91115721e-03  1.06179260e-03 -1.26621849e-03]\n",
      " [-1.08953900e-05  2.91214045e-03  1.07244262e-03 -1.25868397e-03]]\n",
      "ACTIONS: [[-1.40481279e-06  2.93222885e-03  1.06162403e-03 -1.27451005e-03]\n",
      " [-4.96041321e-06  2.91347643e-03  1.06176443e-03 -1.26720266e-03]\n",
      " [-9.15049895e-06  2.91204196e-03  1.07230246e-03 -1.25987432e-03]\n",
      " [-2.48957076e-06  2.93062930e-03  1.06335978e-03 -1.27439131e-03]\n",
      " [-9.76157025e-06  2.91236490e-03  1.07254100e-03 -1.25919329e-03]\n",
      " [-1.70592102e-07  2.92048976e-03  1.07416511e-03 -1.26847834e-03]\n",
      " [-1.41231067e-05  2.90803332e-03  1.06956530e-03 -1.25910772e-03]\n",
      " [-1.04804785e-05  2.90824403e-03  1.06257421e-03 -1.26442569e-03]\n",
      " [-1.00660545e-05  2.90767197e-03  1.06300740e-03 -1.26431196e-03]\n",
      " [-2.41937232e-06  2.92529189e-03  1.06228073e-03 -1.27292541e-03]\n",
      " [-6.63690298e-06  2.91280937e-03  1.06161169e-03 -1.26680546e-03]\n",
      " [-3.52138159e-06  2.93133711e-03  1.06268644e-03 -1.27381424e-03]\n",
      " [-1.25114966e-05  2.90594366e-03  1.06621860e-03 -1.26280135e-03]\n",
      " [-3.10550968e-06  2.93054804e-03  1.06116233e-03 -1.27376639e-03]\n",
      " [-5.03830961e-07  2.92748515e-03  1.06667017e-03 -1.27448281e-03]\n",
      " [-7.36997754e-06  2.91101076e-03  1.06179575e-03 -1.26610859e-03]\n",
      " [-6.00901694e-06  2.91591603e-03  1.07497687e-03 -1.26013020e-03]\n",
      " [-4.35140100e-06  2.91609927e-03  1.07460667e-03 -1.26242801e-03]\n",
      " [-6.73685281e-06  2.91161682e-03  1.06176420e-03 -1.26636110e-03]\n",
      " [-1.04761275e-05  2.91237771e-03  1.07257860e-03 -1.25876837e-03]]\n",
      "ACTIONS: [[-1.4231555e-06  2.9323355e-03  1.0615038e-03 -1.2748556e-03]\n",
      " [-4.5318011e-06  2.9139523e-03  1.0617910e-03 -1.2672869e-03]\n",
      " [-9.1541369e-06  2.9120371e-03  1.0722998e-03 -1.2598683e-03]\n",
      " [-2.5753761e-06  2.9308500e-03  1.0631710e-03 -1.2744007e-03]\n",
      " [-9.4392017e-06  2.9125160e-03  1.0726189e-03 -1.2591935e-03]\n",
      " [-2.2789027e-07  2.9202448e-03  1.0742262e-03 -1.2682872e-03]\n",
      " [-1.4042678e-05  2.9085535e-03  1.0701310e-03 -1.2586381e-03]\n",
      " [-1.0817239e-05  2.9078904e-03  1.0629160e-03 -1.2641867e-03]\n",
      " [-1.0080723e-05  2.9076615e-03  1.0630225e-03 -1.2642981e-03]\n",
      " [-2.5489571e-06  2.9256982e-03  1.0621899e-03 -1.2730471e-03]\n",
      " [-6.5817294e-06  2.9129058e-03  1.0616038e-03 -1.2668472e-03]\n",
      " [-3.5893681e-06  2.9316270e-03  1.0623602e-03 -1.2739181e-03]\n",
      " [-1.2535420e-05  2.9059297e-03  1.0662625e-03 -1.2627704e-03]\n",
      " [-3.0424344e-06  2.9307071e-03  1.0612035e-03 -1.2737896e-03]\n",
      " [-4.4915942e-07  2.9271177e-03  1.0670372e-03 -1.2743915e-03]\n",
      " [-7.2949915e-06  2.9112459e-03  1.0617709e-03 -1.2661717e-03]\n",
      " [-5.3140539e-06  2.9163219e-03  1.0749957e-03 -1.2605923e-03]\n",
      " [-4.1961976e-06  2.9162129e-03  1.0746079e-03 -1.2625504e-03]\n",
      " [-6.4897686e-06  2.9120378e-03  1.0617331e-03 -1.2665241e-03]\n",
      " [-1.0002288e-05  2.9125633e-03  1.0726831e-03 -1.2588324e-03]]\n",
      "ACTIONS: [[-1.37324969e-06  2.93232291e-03  1.06158922e-03 -1.27514557e-03]\n",
      " [-4.23924939e-06  2.91446317e-03  1.06176059e-03 -1.26743363e-03]\n",
      " [-9.15764394e-06  2.91203265e-03  1.07229536e-03 -1.25986268e-03]\n",
      " [-2.64678238e-06  2.93103955e-03  1.06299622e-03 -1.27439306e-03]\n",
      " [-9.13441909e-06  2.91267177e-03  1.07273296e-03 -1.25919189e-03]\n",
      " [-3.18919774e-07  2.92003388e-03  1.07422634e-03 -1.26808078e-03]\n",
      " [-1.38795585e-05  2.90908734e-03  1.07063842e-03 -1.25821796e-03]\n",
      " [-1.11751069e-05  2.90755136e-03  1.06329017e-03 -1.26395049e-03]\n",
      " [-1.00944890e-05  2.90765031e-03  1.06303440e-03 -1.26428390e-03]\n",
      " [-2.64634582e-06  2.92612636e-03  1.06204220e-03 -1.27310678e-03]\n",
      " [-6.52422023e-06  2.91299471e-03  1.06159411e-03 -1.26688706e-03]\n",
      " [-3.57490353e-06  2.93198135e-03  1.06204418e-03 -1.27398642e-03]\n",
      " [-1.25584120e-05  2.90591386e-03  1.06630404e-03 -1.26273977e-03]\n",
      " [-2.98019586e-06  2.93086609e-03  1.06124138e-03 -1.27381005e-03]\n",
      " [-4.37314156e-07  2.92675407e-03  1.06737611e-03 -1.27429888e-03]\n",
      " [-7.21222023e-06  2.91147106e-03  1.06174301e-03 -1.26623479e-03]\n",
      " [-4.67289647e-06  2.91672512e-03  1.07501459e-03 -1.26111507e-03]\n",
      " [-4.04619641e-06  2.91631836e-03  1.07462285e-03 -1.26266247e-03]\n",
      " [-6.20077481e-06  2.91241007e-03  1.06169970e-03 -1.26669917e-03]\n"
     ]
    },
    {
     "name": "stdout",
     "output_type": "stream",
     "text": [
      " [-9.52018308e-06  2.91279750e-03  1.07282645e-03 -1.25881517e-03]]\n",
      "ACTIONS: [[-1.2740202e-06  2.9321588e-03  1.0618506e-03 -1.2753253e-03]\n",
      " [-3.8900253e-06  2.9149640e-03  1.0617253e-03 -1.2676592e-03]\n",
      " [-9.1611946e-06  2.9120285e-03  1.0722891e-03 -1.2598580e-03]\n",
      " [-2.7170900e-06  2.9312004e-03  1.0628398e-03 -1.2743858e-03]\n",
      " [-8.8375382e-06  2.9128431e-03  1.0728597e-03 -1.2591853e-03]\n",
      " [-4.4632179e-07  2.9198339e-03  1.0742212e-03 -1.2678656e-03]\n",
      " [-1.3721634e-05  2.9095325e-03  1.0709692e-03 -1.2579075e-03]\n",
      " [-1.1522832e-05  2.9072564e-03  1.0636416e-03 -1.2636796e-03]\n",
      " [-1.0107535e-05  2.9076384e-03  1.0630428e-03 -1.2642698e-03]\n",
      " [-2.6952330e-06  2.9265569e-03  1.0618852e-03 -1.2731770e-03]\n",
      " [-6.4652049e-06  2.9130832e-03  1.0615839e-03 -1.2669273e-03]\n",
      " [-3.5705016e-06  2.9321718e-03  1.0616485e-03 -1.2740555e-03]\n",
      " [-1.2580669e-05  2.9058962e-03  1.0663434e-03 -1.2627098e-03]\n",
      " [-2.9187795e-06  2.9310251e-03  1.0612757e-03 -1.2738280e-03]\n",
      " [-4.0938903e-07  2.9264283e-03  1.0677307e-03 -1.2742144e-03]\n",
      " [-7.1106551e-06  2.9116857e-03  1.0617347e-03 -1.2663134e-03]\n",
      " [-4.2118263e-06  2.9172332e-03  1.0750694e-03 -1.2616762e-03]\n",
      " [-3.8998551e-06  2.9164292e-03  1.0746287e-03 -1.2627729e-03]\n",
      " [-5.8830192e-06  2.9127777e-03  1.0616939e-03 -1.2668766e-03]\n",
      " [-9.0625617e-06  2.9130636e-03  1.0730248e-03 -1.2588074e-03]]\n",
      "ACTIONS: [[-1.1768425e-06  2.9318947e-03  1.0622146e-03 -1.2754482e-03]\n",
      " [-3.5604608e-06  2.9155079e-03  1.0616833e-03 -1.2678773e-03]\n",
      " [-9.1649490e-06  2.9120243e-03  1.0722813e-03 -1.2598543e-03]\n",
      " [-2.7979768e-06  2.9313485e-03  1.0626911e-03 -1.2743890e-03]\n",
      " [-8.5348438e-06  2.9130201e-03  1.0729836e-03 -1.2592059e-03]\n",
      " [-5.9261220e-07  2.9196527e-03  1.0742232e-03 -1.2676381e-03]\n",
      " [-1.3604462e-05  2.9099907e-03  1.0711834e-03 -1.2578088e-03]\n",
      " [-1.1854747e-05  2.9070156e-03  1.0639783e-03 -1.2634340e-03]\n",
      " [-1.0119940e-05  2.9076259e-03  1.0630480e-03 -1.2642561e-03]\n",
      " [-2.7372298e-06  2.9270004e-03  1.0617136e-03 -1.2732655e-03]\n",
      " [-6.4007472e-06  2.9131731e-03  1.0615820e-03 -1.2669670e-03]\n",
      " [-3.6155761e-06  2.9323201e-03  1.0612890e-03 -1.2740153e-03]\n",
      " [-1.2598670e-05  2.9058789e-03  1.0663837e-03 -1.2626813e-03]\n",
      " [-2.8435970e-06  2.9311844e-03  1.0613030e-03 -1.2738517e-03]\n",
      " [-3.9226143e-07  2.9261350e-03  1.0681017e-03 -1.2740955e-03]\n",
      " [-6.9957387e-06  2.9118983e-03  1.0617163e-03 -1.2664056e-03]\n",
      " [-3.7536665e-06  2.9178467e-03  1.0751004e-03 -1.2622394e-03]\n",
      " [-3.7669888e-06  2.9165349e-03  1.0746296e-03 -1.2629036e-03]\n",
      " [-5.6009667e-06  2.9131568e-03  1.0616914e-03 -1.2670569e-03]\n",
      " [-8.6663786e-06  2.9133635e-03  1.0732856e-03 -1.2589162e-03]]\n",
      "ACTIONS: [[-9.9679892e-07  2.9315667e-03  1.0626577e-03 -1.2755279e-03]\n",
      " [-3.2577809e-06  2.9160548e-03  1.0616657e-03 -1.2681187e-03]\n",
      " [-9.1690454e-06  2.9120201e-03  1.0722722e-03 -1.2598519e-03]\n",
      " [-2.8436843e-06  2.9314975e-03  1.0625148e-03 -1.2743820e-03]\n",
      " [-8.2896076e-06  2.9132306e-03  1.0731445e-03 -1.2592764e-03]\n",
      " [-7.7045843e-07  2.9194595e-03  1.0742333e-03 -1.2673551e-03]\n",
      " [-1.3399294e-05  2.9103863e-03  1.0714369e-03 -1.2577137e-03]\n",
      " [-1.2155600e-05  2.9068014e-03  1.0643394e-03 -1.2631755e-03]\n",
      " [-1.0131800e-05  2.9076124e-03  1.0630505e-03 -1.2642429e-03]\n",
      " [-2.7848801e-06  2.9274300e-03  1.0615288e-03 -1.2733473e-03]\n",
      " [-6.3378975e-06  2.9132615e-03  1.0615833e-03 -1.2670052e-03]\n",
      " [-3.7171485e-06  2.9324703e-03  1.0609902e-03 -1.2738903e-03]\n",
      " [-1.2608987e-05  2.9058615e-03  1.0664313e-03 -1.2626513e-03]\n",
      " [-2.7615679e-06  2.9313471e-03  1.0613193e-03 -1.2738777e-03]\n",
      " [-3.9468432e-07  2.9258048e-03  1.0684595e-03 -1.2739840e-03]\n",
      " [-6.8782392e-06  2.9120855e-03  1.0616903e-03 -1.2665015e-03]\n",
      " [-3.3124161e-06  2.9184557e-03  1.0750580e-03 -1.2628348e-03]\n",
      " [-3.6387864e-06  2.9166357e-03  1.0746287e-03 -1.2630376e-03]\n",
      " [-5.3434851e-06  2.9135144e-03  1.0617285e-03 -1.2672041e-03]\n",
      " [-8.3012492e-06  2.9136448e-03  1.0735319e-03 -1.2591435e-03]]\n",
      "Total score (averaged over agents) this episode: 0.0\n"
     ]
    }
   ],
   "source": [
    "env.reset()\n",
    "scores = np.zeros(env.agent_count)\n",
    "states = env.states\n",
    "for i in range(10):\n",
    "    actions = actor(torch.from_numpy(states).float()).detach().numpy()\n",
    "    print(\"ACTIONS:\", actions)\n",
    "    rewards, dones = env.step(actions)\n",
    "    scores += rewards\n",
    "    states = env.states\n",
    "    if np.any(dones):\n",
    "        break\n",
    "    i += 1\n",
    "print('Total score (averaged over agents) this episode: {}'.format(np.mean(scores)))    "
   ]
  },
  {
   "cell_type": "markdown",
   "metadata": {},
   "source": [
    "### Test out Critic scores without training\n",
    "<i> Test the <b>Critic</b> network"
   ]
  },
  {
   "cell_type": "code",
   "execution_count": 60,
   "metadata": {},
   "outputs": [],
   "source": [
    "critic = models.CriticNet(env.state_size, env.action_size)"
   ]
  },
  {
   "cell_type": "code",
   "execution_count": null,
   "metadata": {},
   "outputs": [],
   "source": [
    "scores = np.zeros(env.agent_count)\n",
    "states = env.states\n",
    "for i in range(10):\n",
    "    states = torch.from_numpy(states).float()\n",
    "    actions = actor(states).detach().numpy()\n",
    "    rewards, dones = env.step(actions)\n",
    "    scores += rewards\n",
    "    values = critic(states, torch.from_numpy(actions))\n",
    "    #print(critic.Q_val)\n",
    "    #print(values.sample())\n",
    "    states = env.states\n",
    "    if np.any(dones):\n",
    "        break\n",
    "    i += 1\n",
    "print('Total score (averaged over agents) this episode: {}'.format(np.mean(scores)))    "
   ]
  },
  {
   "cell_type": "markdown",
   "metadata": {},
   "source": [
    " "
   ]
  },
  {
   "cell_type": "code",
   "execution_count": 61,
   "metadata": {},
   "outputs": [],
   "source": [
    "actions = np.random.randn(env.agent_count, env.action_size)\n",
    "actions = np.clip(actions, -1, 1).astype(np.float32)\n",
    "states = torch.from_numpy(env.states).float()"
   ]
  },
  {
   "cell_type": "code",
   "execution_count": 62,
   "metadata": {},
   "outputs": [],
   "source": [
    "probs, log_probs = critic(states, torch.from_numpy(actions))"
   ]
  },
  {
   "cell_type": "code",
   "execution_count": 64,
   "metadata": {},
   "outputs": [
    {
     "name": "stdout",
     "output_type": "stream",
     "text": [
      "torch.Size([20, 51])\n",
      "torch.Size([20, 51])\n"
     ]
    }
   ],
   "source": [
    "print(probs.shape)\n",
    "print(log_probs.shape)"
   ]
  },
  {
   "cell_type": "code",
   "execution_count": null,
   "metadata": {},
   "outputs": [],
   "source": []
  },
  {
   "cell_type": "code",
   "execution_count": null,
   "metadata": {},
   "outputs": [],
   "source": [
    "env.close()"
   ]
  },
  {
   "cell_type": "code",
   "execution_count": null,
   "metadata": {},
   "outputs": [],
   "source": []
  }
 ],
 "metadata": {
  "kernelspec": {
   "display_name": "drlnd",
   "language": "python",
   "name": "drlnd"
  },
  "language_info": {
   "codemirror_mode": {
    "name": "ipython",
    "version": 3
   },
   "file_extension": ".py",
   "mimetype": "text/x-python",
   "name": "python",
   "nbconvert_exporter": "python",
   "pygments_lexer": "ipython3",
   "version": "3.6.8"
  }
 },
 "nbformat": 4,
 "nbformat_minor": 2
}
